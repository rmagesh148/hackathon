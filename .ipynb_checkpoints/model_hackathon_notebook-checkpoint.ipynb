{
 "cells": [
  {
   "cell_type": "code",
   "execution_count": 2,
   "metadata": {},
   "outputs": [],
   "source": [
    "#Import All the packages"
   ]
  },
  {
   "cell_type": "code",
   "execution_count": 2,
   "metadata": {},
   "outputs": [],
   "source": [
    "import math\n",
    "import numpy as np\n",
    "import pandas as pd\n",
    "from sklearn import linear_model"
   ]
  },
  {
   "cell_type": "code",
   "execution_count": 6,
   "metadata": {},
   "outputs": [
    {
     "data": {
      "text/html": [
       "<div>\n",
       "<style scoped>\n",
       "    .dataframe tbody tr th:only-of-type {\n",
       "        vertical-align: middle;\n",
       "    }\n",
       "\n",
       "    .dataframe tbody tr th {\n",
       "        vertical-align: top;\n",
       "    }\n",
       "\n",
       "    .dataframe thead th {\n",
       "        text-align: right;\n",
       "    }\n",
       "</style>\n",
       "<table border=\"1\" class=\"dataframe\">\n",
       "  <thead>\n",
       "    <tr style=\"text-align: right;\">\n",
       "      <th></th>\n",
       "      <th>productId</th>\n",
       "      <th>shopNameId</th>\n",
       "      <th>shopLatitude</th>\n",
       "      <th>shopLongitude</th>\n",
       "      <th>userLatitude</th>\n",
       "      <th>userLongitude</th>\n",
       "      <th>day</th>\n",
       "      <th>time</th>\n",
       "    </tr>\n",
       "  </thead>\n",
       "  <tbody>\n",
       "    <tr>\n",
       "      <th>0</th>\n",
       "      <td>2</td>\n",
       "      <td>24</td>\n",
       "      <td>30.4145</td>\n",
       "      <td>-97.7053</td>\n",
       "      <td>30.4144</td>\n",
       "      <td>-97.7054</td>\n",
       "      <td>2</td>\n",
       "      <td>5</td>\n",
       "    </tr>\n",
       "    <tr>\n",
       "      <th>1</th>\n",
       "      <td>2</td>\n",
       "      <td>24</td>\n",
       "      <td>30.4145</td>\n",
       "      <td>-97.7053</td>\n",
       "      <td>30.4144</td>\n",
       "      <td>-97.7055</td>\n",
       "      <td>7</td>\n",
       "      <td>8</td>\n",
       "    </tr>\n",
       "    <tr>\n",
       "      <th>2</th>\n",
       "      <td>4</td>\n",
       "      <td>24</td>\n",
       "      <td>30.4145</td>\n",
       "      <td>-97.7053</td>\n",
       "      <td>30.4144</td>\n",
       "      <td>-97.7056</td>\n",
       "      <td>3</td>\n",
       "      <td>8</td>\n",
       "    </tr>\n",
       "    <tr>\n",
       "      <th>3</th>\n",
       "      <td>3</td>\n",
       "      <td>24</td>\n",
       "      <td>30.4145</td>\n",
       "      <td>-97.7053</td>\n",
       "      <td>30.4144</td>\n",
       "      <td>-97.7057</td>\n",
       "      <td>4</td>\n",
       "      <td>12</td>\n",
       "    </tr>\n",
       "    <tr>\n",
       "      <th>4</th>\n",
       "      <td>1</td>\n",
       "      <td>24</td>\n",
       "      <td>30.4145</td>\n",
       "      <td>-97.7053</td>\n",
       "      <td>30.4144</td>\n",
       "      <td>-97.7052</td>\n",
       "      <td>5</td>\n",
       "      <td>12</td>\n",
       "    </tr>\n",
       "  </tbody>\n",
       "</table>\n",
       "</div>"
      ],
      "text/plain": [
       "   productId  shopNameId  shopLatitude  shopLongitude  userLatitude  \\\n",
       "0          2          24       30.4145       -97.7053       30.4144   \n",
       "1          2          24       30.4145       -97.7053       30.4144   \n",
       "2          4          24       30.4145       -97.7053       30.4144   \n",
       "3          3          24       30.4145       -97.7053       30.4144   \n",
       "4          1          24       30.4145       -97.7053       30.4144   \n",
       "\n",
       "   userLongitude  day  time  \n",
       "0       -97.7054    2     5  \n",
       "1       -97.7055    7     8  \n",
       "2       -97.7056    3     8  \n",
       "3       -97.7057    4    12  \n",
       "4       -97.7052    5    12  "
      ]
     },
     "execution_count": 6,
     "metadata": {},
     "output_type": "execute_result"
    }
   ],
   "source": [
    "data = pd.read_csv(\"/Users/rmagesh/hackathon/dataset_input/train_test_header_new.csv\", sep=',')\n",
    "data.head()"
   ]
  },
  {
   "cell_type": "code",
   "execution_count": 32,
   "metadata": {},
   "outputs": [
    {
     "data": {
      "text/plain": [
       "0        0.530833\n",
       "1        0.530833\n",
       "2        0.530833\n",
       "3        0.530833\n",
       "4        0.530833\n",
       "5        0.530833\n",
       "6        0.530833\n",
       "7        0.530833\n",
       "8        0.530833\n",
       "9        0.530833\n",
       "10       0.530833\n",
       "11       0.530833\n",
       "12       0.530833\n",
       "13       0.530833\n",
       "14       0.530833\n",
       "15       0.530833\n",
       "16       0.530833\n",
       "17       0.530833\n",
       "18       0.530833\n",
       "19       0.530833\n",
       "20       0.530833\n",
       "21       0.530833\n",
       "22       0.530833\n",
       "23       0.530833\n",
       "24       0.530833\n",
       "25       0.530833\n",
       "26       0.530833\n",
       "27       0.530833\n",
       "28       0.530833\n",
       "29       0.530833\n",
       "           ...   \n",
       "15970    0.648941\n",
       "15971    0.648941\n",
       "15972    0.648941\n",
       "15973    0.648941\n",
       "15974    0.648941\n",
       "15975    0.648941\n",
       "15976    0.648941\n",
       "15977    0.648941\n",
       "15978    0.648941\n",
       "15979    0.648941\n",
       "15980    0.648941\n",
       "15981    0.648941\n",
       "15982    0.648941\n",
       "15983    0.648941\n",
       "15984    0.648941\n",
       "15985    0.648941\n",
       "15986    0.648941\n",
       "15987    0.648941\n",
       "15988    0.648941\n",
       "15989    0.648941\n",
       "15990    0.648941\n",
       "15991    0.648941\n",
       "15992    0.648941\n",
       "15993    0.648941\n",
       "15994    0.648941\n",
       "15995    0.648941\n",
       "15996    0.648941\n",
       "15997    0.648941\n",
       "15998    0.648941\n",
       "15999    0.648941\n",
       "Name: shopLatitude, Length: 16000, dtype: float64"
      ]
     },
     "execution_count": 32,
     "metadata": {},
     "output_type": "execute_result"
    }
   ],
   "source": [
    "data['hr_sin'] = np.sin(data.time*(2.*np.pi/24))\n",
    "data['hr_cos'] = np.cos(data.time*(2.*np.pi/24))\n",
    "data['shop_lat_rad'] = np.radians(data.shopLatitude)\n",
    "data['shop_lng_rad'] = np.radians(data.shopLongitude)\n",
    "data['user_lat_rad'] = np.radians(data.userLatitude)\n",
    "data['user_lng_rad'] = np.radians(data.userLongitude)"
   ]
  },
  {
   "cell_type": "code",
   "execution_count": 13,
   "metadata": {},
   "outputs": [
    {
     "data": {
      "text/plain": [
       "1.3669977206980226"
      ]
     },
     "execution_count": 13,
     "metadata": {},
     "output_type": "execute_result"
    }
   ],
   "source": [
    "data.head()\n",
    "math.radians(78.3232)"
   ]
  },
  {
   "cell_type": "code",
   "execution_count": null,
   "metadata": {},
   "outputs": [],
   "source": [
    "data['distance'] = 3959 * acos (\n",
    "      cos ( radians(78.3232) )\n",
    "      * cos( radians( lat ) )\n",
    "      * cos( radians( lng ) - radians(65.3234) )\n",
    "      + sin ( radians(78.3232) )\n",
    "      * sin( radians( lat ) )"
   ]
  }
 ],
 "metadata": {
  "kernelspec": {
   "display_name": "Python 3",
   "language": "python",
   "name": "python3"
  },
  "language_info": {
   "codemirror_mode": {
    "name": "ipython",
    "version": 3
   },
   "file_extension": ".py",
   "mimetype": "text/x-python",
   "name": "python",
   "nbconvert_exporter": "python",
   "pygments_lexer": "ipython3",
   "version": "3.6.5"
  }
 },
 "nbformat": 4,
 "nbformat_minor": 2
}
